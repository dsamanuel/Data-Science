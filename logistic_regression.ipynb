{
  "nbformat": 4,
  "nbformat_minor": 0,
  "metadata": {
    "colab": {
      "provenance": [],
      "toc_visible": true,
      "mount_file_id": "1jmjTIRiFx3jsjhJfRpE1SZ3tfJAlVbDk",
      "authorship_tag": "ABX9TyNhYH3/y2dG3HRaeCFlOkG2",
      "include_colab_link": true
    },
    "kernelspec": {
      "name": "python3",
      "display_name": "Python 3"
    },
    "language_info": {
      "name": "python"
    }
  },
  "cells": [
    {
      "cell_type": "markdown",
      "metadata": {
        "id": "view-in-github",
        "colab_type": "text"
      },
      "source": [
        "<a href=\"https://colab.research.google.com/github/dsamanuel/Data-Science/blob/main/logistic_regression.ipynb\" target=\"_parent\"><img src=\"https://colab.research.google.com/assets/colab-badge.svg\" alt=\"Open In Colab\"/></a>"
      ]
    },
    {
      "cell_type": "markdown",
      "source": [
        "# Importing Dataset"
      ],
      "metadata": {
        "id": "yxaZwUZYLNnU"
      }
    },
    {
      "cell_type": "code",
      "execution_count": 51,
      "metadata": {
        "id": "zNw3jV4FK-pG",
        "colab": {
          "base_uri": "https://localhost:8080/"
        },
        "outputId": "42b62aec-fab0-4669-85dd-377eb6c3f028"
      },
      "outputs": [
        {
          "output_type": "stream",
          "name": "stdout",
          "text": [
            "Mounted at /content/gdrive\n",
            "       Sample code number  Clump Thickness  Uniformity of Cell Size  \\\n",
            "count        6.830000e+02       683.000000               683.000000   \n",
            "mean         1.076720e+06         4.442167                 3.150805   \n",
            "std          6.206440e+05         2.820761                 3.065145   \n",
            "min          6.337500e+04         1.000000                 1.000000   \n",
            "25%          8.776170e+05         2.000000                 1.000000   \n",
            "50%          1.171795e+06         4.000000                 1.000000   \n",
            "75%          1.238705e+06         6.000000                 5.000000   \n",
            "max          1.345435e+07        10.000000                10.000000   \n",
            "\n",
            "       Uniformity of Cell Shape  Marginal Adhesion  \\\n",
            "count                683.000000         683.000000   \n",
            "mean                   3.215227           2.830161   \n",
            "std                    2.988581           2.864562   \n",
            "min                    1.000000           1.000000   \n",
            "25%                    1.000000           1.000000   \n",
            "50%                    1.000000           1.000000   \n",
            "75%                    5.000000           4.000000   \n",
            "max                   10.000000          10.000000   \n",
            "\n",
            "       Single Epithelial Cell Size  Bare Nuclei  Bland Chromatin  \\\n",
            "count                   683.000000   683.000000       683.000000   \n",
            "mean                      3.234261     3.544656         3.445095   \n",
            "std                       2.223085     3.643857         2.449697   \n",
            "min                       1.000000     1.000000         1.000000   \n",
            "25%                       2.000000     1.000000         2.000000   \n",
            "50%                       2.000000     1.000000         3.000000   \n",
            "75%                       4.000000     6.000000         5.000000   \n",
            "max                      10.000000    10.000000        10.000000   \n",
            "\n",
            "       Normal Nucleoli     Mitoses       Class  \n",
            "count       683.000000  683.000000  683.000000  \n",
            "mean          2.869693    1.603221    2.699854  \n",
            "std           3.052666    1.732674    0.954592  \n",
            "min           1.000000    1.000000    2.000000  \n",
            "25%           1.000000    1.000000    2.000000  \n",
            "50%           1.000000    1.000000    2.000000  \n",
            "75%           4.000000    1.000000    4.000000  \n",
            "max          10.000000   10.000000    4.000000  \n"
          ]
        }
      ],
      "source": [
        "import pandas as pd\n",
        "import numpy as np\n",
        "from google.colab import drive\n",
        "drive.mount('/content/gdrive')\n",
        "\n",
        "df = pd.read_csv('/content/gdrive/MyDrive/Colab Notebooks/breast_cancer.csv')\n",
        "\n",
        "print(df.describe())\n",
        "X = df.iloc[:, 1:-1].values\n",
        "y = df.iloc[:, -1].values\n"
      ]
    },
    {
      "cell_type": "markdown",
      "source": [
        "# Splitting the dataset into the Training set and Test set"
      ],
      "metadata": {
        "id": "T4ThYtewZP3t"
      }
    },
    {
      "cell_type": "code",
      "source": [
        "from sklearn.model_selection import train_test_split\n",
        "X_train, X_test, y_train, y_test = train_test_split(X, y, test_size=0.2, random_state=0)\n",
        "print(len(y_train))\n",
        "print(len(X_test))"
      ],
      "metadata": {
        "id": "ASgrwR8_LgB-",
        "colab": {
          "base_uri": "https://localhost:8080/"
        },
        "outputId": "40179873-e567-49bd-a53f-276d7e0dbe2c"
      },
      "execution_count": null,
      "outputs": [
        {
          "output_type": "stream",
          "name": "stdout",
          "text": [
            "546\n",
            "137\n"
          ]
        }
      ]
    },
    {
      "cell_type": "markdown",
      "source": [
        "# Training the Logistic Regression model on Training set"
      ],
      "metadata": {
        "id": "fB7OoB4zYscM"
      }
    },
    {
      "cell_type": "code",
      "source": [
        "from sklearn.linear_model import LogisticRegression\n",
        "\n",
        "classifier = LogisticRegression()\n",
        "classifier.fit(X_train, y_train)"
      ],
      "metadata": {
        "id": "WnWCwcPEQlZM"
      },
      "execution_count": null,
      "outputs": []
    },
    {
      "cell_type": "markdown",
      "source": [
        "# Predicting the Test set results"
      ],
      "metadata": {
        "id": "XRzJG8voYhn7"
      }
    },
    {
      "cell_type": "code",
      "source": [
        "y_pred = classifier.predict(X_test)"
      ],
      "metadata": {
        "id": "dYfdPbfCU--A"
      },
      "execution_count": null,
      "outputs": []
    },
    {
      "cell_type": "markdown",
      "source": [
        "# Making the confusion matrix"
      ],
      "metadata": {
        "id": "83H35HbmYXNP"
      }
    },
    {
      "cell_type": "code",
      "source": [
        "from sklearn.metrics import confusion_matrix, accuracy_score\n",
        "\n",
        "cm = confusion_matrix(y_test, y_pred)\n",
        "print(cm)\n",
        "accuracy_score(y_test, y_pred)"
      ],
      "metadata": {
        "colab": {
          "base_uri": "https://localhost:8080/"
        },
        "id": "OVFLijtMVZlo",
        "outputId": "08b1756f-4064-4531-fffd-dcfe311bcbff"
      },
      "execution_count": null,
      "outputs": [
        {
          "output_type": "stream",
          "name": "stdout",
          "text": [
            "[[84  3]\n",
            " [ 3 47]]\n"
          ]
        },
        {
          "output_type": "execute_result",
          "data": {
            "text/plain": [
              "0.9562043795620438"
            ]
          },
          "metadata": {},
          "execution_count": 33
        }
      ]
    },
    {
      "cell_type": "markdown",
      "source": [
        "# computing the accuracy with K-Ford Cross Validation"
      ],
      "metadata": {
        "id": "LWi2QhBOYHC_"
      }
    },
    {
      "cell_type": "code",
      "source": [
        "from sklearn.model_selection import cross_val_score\n",
        "\n",
        "accuracies = cross_val_score(estimator=classifier, X=X_train, y=y_train, cv=10)\n",
        "print(\"Accuracy: {:.2f} %\".format(accuracies.mean() * 100))\n",
        "print(\"Standard Deviation: {:.2f} %\".format(accuracies.std() * 100))"
      ],
      "metadata": {
        "colab": {
          "base_uri": "https://localhost:8080/"
        },
        "id": "iGrk02A4VcTb",
        "outputId": "35e52e11-f3b6-4100-c473-53cde87595fb"
      },
      "execution_count": 50,
      "outputs": [
        {
          "output_type": "stream",
          "name": "stdout",
          "text": [
            "Accuracy: 96.70 %\n",
            "Standard Deviation: 1.97 %\n"
          ]
        }
      ]
    },
    {
      "cell_type": "code",
      "source": [],
      "metadata": {
        "id": "eGwiHazaYDIt"
      },
      "execution_count": null,
      "outputs": []
    }
  ]
}